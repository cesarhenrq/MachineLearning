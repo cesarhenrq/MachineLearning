{
 "cells": [
  {
   "cell_type": "code",
   "execution_count": 5,
   "id": "8cb1b42d",
   "metadata": {},
   "outputs": [],
   "source": [
    "#Carregamento das bibliotecas\n",
    "import pandas as pd\n",
    "from sklearn.model_selection import train_test_split\n",
    "from sklearn.naive_bayes import GaussianNB\n",
    "from sklearn.preprocessing import LabelEncoder\n",
    "from sklearn.metrics import confusion_matrix, accuracy_score\n",
    "from yellowbrick.classifier import ConfusionMatrix"
   ]
  },
  {
   "cell_type": "code",
   "execution_count": 12,
   "id": "f499947c",
   "metadata": {},
   "outputs": [],
   "source": [
    "#Carregamento da base de dados\n",
    "soja = pd.read_csv(\"soybean.csv\")"
   ]
  },
  {
   "cell_type": "code",
   "execution_count": 13,
   "id": "bfbd0b0d",
   "metadata": {
    "collapsed": true
   },
   "outputs": [
    {
     "data": {
      "text/plain": [
       "(683, 36)"
      ]
     },
     "execution_count": 13,
     "metadata": {},
     "output_type": "execute_result"
    }
   ],
   "source": [
    "soja.shape"
   ]
  },
  {
   "cell_type": "code",
   "execution_count": 15,
   "id": "4a05a94e",
   "metadata": {},
   "outputs": [
    {
     "data": {
      "text/html": [
       "<div>\n",
       "<style scoped>\n",
       "    .dataframe tbody tr th:only-of-type {\n",
       "        vertical-align: middle;\n",
       "    }\n",
       "\n",
       "    .dataframe tbody tr th {\n",
       "        vertical-align: top;\n",
       "    }\n",
       "\n",
       "    .dataframe thead th {\n",
       "        text-align: right;\n",
       "    }\n",
       "</style>\n",
       "<table border=\"1\" class=\"dataframe\">\n",
       "  <thead>\n",
       "    <tr style=\"text-align: right;\">\n",
       "      <th></th>\n",
       "      <th>date</th>\n",
       "      <th>plant-stand</th>\n",
       "      <th>precip</th>\n",
       "      <th>temp</th>\n",
       "      <th>hail</th>\n",
       "      <th>crop-hist</th>\n",
       "      <th>area-damaged</th>\n",
       "      <th>severity</th>\n",
       "      <th>seed-tmt</th>\n",
       "      <th>germination</th>\n",
       "      <th>...</th>\n",
       "      <th>sclerotia</th>\n",
       "      <th>fruit-pods</th>\n",
       "      <th>fruit-spots</th>\n",
       "      <th>seed</th>\n",
       "      <th>mold-growth</th>\n",
       "      <th>seed-discolor</th>\n",
       "      <th>seed-size</th>\n",
       "      <th>shriveling</th>\n",
       "      <th>roots</th>\n",
       "      <th>class</th>\n",
       "    </tr>\n",
       "  </thead>\n",
       "  <tbody>\n",
       "    <tr>\n",
       "      <th>0</th>\n",
       "      <td>october</td>\n",
       "      <td>normal</td>\n",
       "      <td>gt-norm</td>\n",
       "      <td>norm</td>\n",
       "      <td>yes</td>\n",
       "      <td>same-lst-yr</td>\n",
       "      <td>low-areas</td>\n",
       "      <td>pot-severe</td>\n",
       "      <td>none</td>\n",
       "      <td>90-100</td>\n",
       "      <td>...</td>\n",
       "      <td>absent</td>\n",
       "      <td>norm</td>\n",
       "      <td>dna</td>\n",
       "      <td>norm</td>\n",
       "      <td>absent</td>\n",
       "      <td>absent</td>\n",
       "      <td>norm</td>\n",
       "      <td>absent</td>\n",
       "      <td>norm</td>\n",
       "      <td>diaporthe-stem-canker</td>\n",
       "    </tr>\n",
       "    <tr>\n",
       "      <th>1</th>\n",
       "      <td>august</td>\n",
       "      <td>normal</td>\n",
       "      <td>gt-norm</td>\n",
       "      <td>norm</td>\n",
       "      <td>yes</td>\n",
       "      <td>same-lst-two-yrs</td>\n",
       "      <td>scattered</td>\n",
       "      <td>severe</td>\n",
       "      <td>fungicide</td>\n",
       "      <td>80-89</td>\n",
       "      <td>...</td>\n",
       "      <td>absent</td>\n",
       "      <td>norm</td>\n",
       "      <td>dna</td>\n",
       "      <td>norm</td>\n",
       "      <td>absent</td>\n",
       "      <td>absent</td>\n",
       "      <td>norm</td>\n",
       "      <td>absent</td>\n",
       "      <td>norm</td>\n",
       "      <td>diaporthe-stem-canker</td>\n",
       "    </tr>\n",
       "    <tr>\n",
       "      <th>2</th>\n",
       "      <td>july</td>\n",
       "      <td>normal</td>\n",
       "      <td>gt-norm</td>\n",
       "      <td>norm</td>\n",
       "      <td>yes</td>\n",
       "      <td>same-lst-yr</td>\n",
       "      <td>scattered</td>\n",
       "      <td>severe</td>\n",
       "      <td>fungicide</td>\n",
       "      <td>lt-80</td>\n",
       "      <td>...</td>\n",
       "      <td>absent</td>\n",
       "      <td>norm</td>\n",
       "      <td>dna</td>\n",
       "      <td>norm</td>\n",
       "      <td>absent</td>\n",
       "      <td>absent</td>\n",
       "      <td>norm</td>\n",
       "      <td>absent</td>\n",
       "      <td>norm</td>\n",
       "      <td>diaporthe-stem-canker</td>\n",
       "    </tr>\n",
       "    <tr>\n",
       "      <th>3</th>\n",
       "      <td>july</td>\n",
       "      <td>normal</td>\n",
       "      <td>gt-norm</td>\n",
       "      <td>norm</td>\n",
       "      <td>yes</td>\n",
       "      <td>same-lst-yr</td>\n",
       "      <td>scattered</td>\n",
       "      <td>severe</td>\n",
       "      <td>none</td>\n",
       "      <td>80-89</td>\n",
       "      <td>...</td>\n",
       "      <td>absent</td>\n",
       "      <td>norm</td>\n",
       "      <td>dna</td>\n",
       "      <td>norm</td>\n",
       "      <td>absent</td>\n",
       "      <td>absent</td>\n",
       "      <td>norm</td>\n",
       "      <td>absent</td>\n",
       "      <td>norm</td>\n",
       "      <td>diaporthe-stem-canker</td>\n",
       "    </tr>\n",
       "    <tr>\n",
       "      <th>4</th>\n",
       "      <td>october</td>\n",
       "      <td>normal</td>\n",
       "      <td>gt-norm</td>\n",
       "      <td>norm</td>\n",
       "      <td>yes</td>\n",
       "      <td>same-lst-two-yrs</td>\n",
       "      <td>scattered</td>\n",
       "      <td>pot-severe</td>\n",
       "      <td>none</td>\n",
       "      <td>lt-80</td>\n",
       "      <td>...</td>\n",
       "      <td>absent</td>\n",
       "      <td>norm</td>\n",
       "      <td>dna</td>\n",
       "      <td>norm</td>\n",
       "      <td>absent</td>\n",
       "      <td>absent</td>\n",
       "      <td>norm</td>\n",
       "      <td>absent</td>\n",
       "      <td>norm</td>\n",
       "      <td>diaporthe-stem-canker</td>\n",
       "    </tr>\n",
       "  </tbody>\n",
       "</table>\n",
       "<p>5 rows × 36 columns</p>\n",
       "</div>"
      ],
      "text/plain": [
       "      date plant-stand   precip  temp hail         crop-hist area-damaged  \\\n",
       "0  october      normal  gt-norm  norm  yes       same-lst-yr    low-areas   \n",
       "1   august      normal  gt-norm  norm  yes  same-lst-two-yrs    scattered   \n",
       "2     july      normal  gt-norm  norm  yes       same-lst-yr    scattered   \n",
       "3     july      normal  gt-norm  norm  yes       same-lst-yr    scattered   \n",
       "4  october      normal  gt-norm  norm  yes  same-lst-two-yrs    scattered   \n",
       "\n",
       "     severity   seed-tmt germination  ... sclerotia fruit-pods fruit-spots  \\\n",
       "0  pot-severe       none      90-100  ...    absent       norm         dna   \n",
       "1      severe  fungicide       80-89  ...    absent       norm         dna   \n",
       "2      severe  fungicide       lt-80  ...    absent       norm         dna   \n",
       "3      severe       none       80-89  ...    absent       norm         dna   \n",
       "4  pot-severe       none       lt-80  ...    absent       norm         dna   \n",
       "\n",
       "   seed mold-growth seed-discolor seed-size shriveling roots  \\\n",
       "0  norm      absent        absent      norm     absent  norm   \n",
       "1  norm      absent        absent      norm     absent  norm   \n",
       "2  norm      absent        absent      norm     absent  norm   \n",
       "3  norm      absent        absent      norm     absent  norm   \n",
       "4  norm      absent        absent      norm     absent  norm   \n",
       "\n",
       "                   class  \n",
       "0  diaporthe-stem-canker  \n",
       "1  diaporthe-stem-canker  \n",
       "2  diaporthe-stem-canker  \n",
       "3  diaporthe-stem-canker  \n",
       "4  diaporthe-stem-canker  \n",
       "\n",
       "[5 rows x 36 columns]"
      ]
     },
     "execution_count": 15,
     "metadata": {},
     "output_type": "execute_result"
    }
   ],
   "source": [
    "soja.head()"
   ]
  },
  {
   "cell_type": "code",
   "execution_count": 24,
   "id": "bef811d6",
   "metadata": {},
   "outputs": [],
   "source": [
    "#Tranforma dataFrame em matriz e separa classe dos previsores\n",
    "previsores = soja.iloc[:, 0:35].values\n",
    "classe = soja.iloc[:, 35].values"
   ]
  },
  {
   "cell_type": "code",
   "execution_count": 25,
   "id": "658469fe",
   "metadata": {},
   "outputs": [],
   "source": [
    "#Transforma os atributos categóricos em numéricos\n",
    "\n",
    "labelenconder0 = LabelEncoder()\n",
    "previsores[:, 0] = labelenconder0.fit_transform(previsores[:, 0])\n",
    "\n",
    "labelenconder1 = LabelEncoder()\n",
    "previsores[:, 1] = labelenconder1.fit_transform(previsores[:, 1])\n",
    "\n",
    "labelenconder2 = LabelEncoder()\n",
    "previsores[:, 2] = labelenconder2.fit_transform(previsores[:, 2])\n",
    "\n",
    "labelenconder3 = LabelEncoder()\n",
    "previsores[:, 3] = labelenconder3.fit_transform(previsores[:, 3])\n",
    "\n",
    "labelenconder4 = LabelEncoder()\n",
    "previsores[:, 4] = labelenconder4.fit_transform(previsores[:, 4])\n",
    "\n",
    "labelenconder5 = LabelEncoder()\n",
    "previsores[:, 5] = labelenconder5.fit_transform(previsores[:, 5])\n",
    "\n",
    "labelenconder6 = LabelEncoder()\n",
    "previsores[:, 6] = labelenconder6.fit_transform(previsores[:, 6])\n",
    "\n",
    "labelenconder7 = LabelEncoder()\n",
    "previsores[:, 7] = labelenconder7.fit_transform(previsores[:, 7])\n",
    "\n",
    "labelenconder8 = LabelEncoder()\n",
    "previsores[:, 8] = labelenconder8.fit_transform(previsores[:, 8])\n",
    "\n",
    "labelenconder9 = LabelEncoder()\n",
    "previsores[:, 9] = labelenconder9.fit_transform(previsores[:, 9])\n",
    "\n",
    "labelenconder10 = LabelEncoder()\n",
    "previsores[:, 10] = labelenconder10.fit_transform(previsores[:, 10])\n",
    "\n",
    "labelenconder11 = LabelEncoder()\n",
    "previsores[:, 11] = labelenconder11.fit_transform(previsores[:, 11])\n",
    "\n",
    "labelenconder12 = LabelEncoder()\n",
    "previsores[:, 12] = labelenconder12.fit_transform(previsores[:, 12])\n",
    "\n",
    "labelenconder13 = LabelEncoder()\n",
    "previsores[:, 13] = labelenconder13.fit_transform(previsores[:, 13])\n",
    "\n",
    "labelenconder14 = LabelEncoder()\n",
    "previsores[:, 14] = labelenconder14.fit_transform(previsores[:, 14])\n",
    "\n",
    "labelenconder15 = LabelEncoder()\n",
    "previsores[:, 15] = labelenconder15.fit_transform(previsores[:, 15])\n",
    "\n",
    "labelenconder16 = LabelEncoder()\n",
    "previsores[:, 16] = labelenconder16.fit_transform(previsores[:, 16])\n",
    "\n",
    "labelenconder17 = LabelEncoder()\n",
    "previsores[:, 17] = labelenconder17.fit_transform(previsores[:, 17])\n",
    "\n",
    "labelenconder18 = LabelEncoder()\n",
    "previsores[:, 18] = labelenconder18.fit_transform(previsores[:, 18])\n",
    "\n",
    "labelenconder19 = LabelEncoder()\n",
    "previsores[:, 19] = labelenconder19.fit_transform(previsores[:, 19])\n",
    "\n",
    "labelenconder20 = LabelEncoder()\n",
    "previsores[:, 20] = labelenconder20.fit_transform(previsores[:, 20])\n",
    "\n",
    "labelenconder21 = LabelEncoder()\n",
    "previsores[:, 21] = labelenconder21.fit_transform(previsores[:, 21])\n",
    "\n",
    "labelenconder21 = LabelEncoder()\n",
    "previsores[:, 21] = labelenconder21.fit_transform(previsores[:, 21])\n",
    "\n",
    "labelenconder22 = LabelEncoder()\n",
    "previsores[:, 22] = labelenconder22.fit_transform(previsores[:, 22])\n",
    "\n",
    "labelenconder23 = LabelEncoder()\n",
    "previsores[:, 23] = labelenconder23.fit_transform(previsores[:, 23])\n",
    "\n",
    "labelenconder24 = LabelEncoder()\n",
    "previsores[:, 24] = labelenconder24.fit_transform(previsores[:, 24])\n",
    "\n",
    "labelenconder25 = LabelEncoder()\n",
    "previsores[:, 25] = labelenconder25.fit_transform(previsores[:, 25])\n",
    "\n",
    "labelenconder26 = LabelEncoder()\n",
    "previsores[:, 26] = labelenconder26.fit_transform(previsores[:, 26])\n",
    "\n",
    "labelenconder27 = LabelEncoder()\n",
    "previsores[:, 27] = labelenconder27.fit_transform(previsores[:, 27])\n",
    "\n",
    "labelenconder28 = LabelEncoder()\n",
    "previsores[:, 28] = labelenconder28.fit_transform(previsores[:, 28])\n",
    "\n",
    "labelenconder29 = LabelEncoder()\n",
    "previsores[:, 29] = labelenconder29.fit_transform(previsores[:, 29])\n",
    "\n",
    "labelenconder30 = LabelEncoder()\n",
    "previsores[:, 30] = labelenconder30.fit_transform(previsores[:, 30])\n",
    "\n",
    "labelenconder31 = LabelEncoder()\n",
    "previsores[:, 31] = labelenconder31.fit_transform(previsores[:, 31])\n",
    "\n",
    "labelenconder32 = LabelEncoder()\n",
    "previsores[:, 32] = labelenconder32.fit_transform(previsores[:, 32])\n",
    "\n",
    "labelenconder33 = LabelEncoder()\n",
    "previsores[:, 33] = labelenconder33.fit_transform(previsores[:, 33])\n",
    "\n",
    "labelenconder34 = LabelEncoder()\n",
    "previsores[:, 34] = labelenconder34.fit_transform(previsores[:, 34])"
   ]
  },
  {
   "cell_type": "code",
   "execution_count": 26,
   "id": "71c22a1e",
   "metadata": {},
   "outputs": [],
   "source": [
    "#Divisão dos dados entre treino e teste \n",
    "X_treinamento, X_teste, y_treinamento, y_teste = train_test_split(previsores, classe, test_size = 0.3, random_state = 0)"
   ]
  },
  {
   "cell_type": "code",
   "execution_count": 27,
   "id": "c2f1941f",
   "metadata": {
    "collapsed": true
   },
   "outputs": [
    {
     "data": {
      "text/plain": [
       "GaussianNB()"
      ]
     },
     "execution_count": 27,
     "metadata": {},
     "output_type": "execute_result"
    }
   ],
   "source": [
    "#Criação e treinamento do modelo\n",
    "naive_bayes = GaussianNB()\n",
    "naive_bayes.fit(X_treinamento, y_treinamento)"
   ]
  },
  {
   "cell_type": "code",
   "execution_count": 28,
   "id": "b165368a",
   "metadata": {},
   "outputs": [],
   "source": [
    "#Previsões usando os dados de teste\n",
    "previsoes = naive_bayes.predict(X_teste)"
   ]
  },
  {
   "cell_type": "code",
   "execution_count": 30,
   "id": "622664d1",
   "metadata": {
    "collapsed": true
   },
   "outputs": [
    {
     "data": {
      "text/plain": [
       "array([[ 3,  0,  0,  0,  0,  0,  0,  0,  0,  0,  0,  0,  0,  0,  0,  0,\n",
       "         0,  0,  0],\n",
       "       [ 0, 26,  0,  0,  0,  0,  0,  0,  0,  0,  0,  0,  0,  0,  1,  0,\n",
       "         0,  0,  0],\n",
       "       [ 0,  0, 14,  0,  0,  0,  0,  0,  0,  0,  0,  0,  0,  0,  0,  0,\n",
       "         0,  0,  0],\n",
       "       [ 0,  0,  0,  8,  0,  0,  0,  0,  0,  0,  0,  0,  0,  0,  0,  0,\n",
       "         0,  0,  0],\n",
       "       [ 0,  0,  0,  0,  7,  0,  0,  0,  0,  0,  0,  0,  0,  0,  0,  0,\n",
       "         0,  0,  0],\n",
       "       [ 0,  7,  0,  0,  0, 10,  0,  0,  0,  0,  0,  0,  1,  0,  5,  0,\n",
       "         0,  0,  0],\n",
       "       [ 0,  0,  0,  0,  0,  0, 13,  0,  0,  0,  0,  0,  0,  0,  0,  0,\n",
       "         0,  0,  0],\n",
       "       [ 0,  0,  0,  0,  0,  0,  0,  9,  0,  0,  0,  0,  0,  0,  0,  0,\n",
       "         0,  0,  0],\n",
       "       [ 0,  0,  0,  0,  0,  0,  0,  0,  5,  0,  0,  0,  0,  0,  0,  0,\n",
       "         0,  0,  0],\n",
       "       [ 0,  0,  0,  0,  0,  0,  0,  0,  0,  6,  0,  0,  0,  0,  0,  0,\n",
       "         0,  0,  0],\n",
       "       [ 0,  0,  0,  0,  0,  0,  0,  0,  0,  0,  8,  0,  0,  0,  0,  0,\n",
       "         0,  0,  0],\n",
       "       [ 0,  0,  0,  0,  0,  0,  0,  0,  0,  0,  0,  5,  0,  0,  0,  0,\n",
       "         0,  0,  0],\n",
       "       [ 0,  5,  0,  0,  0,  0,  0,  0,  0,  0,  0,  0, 20,  0,  1,  1,\n",
       "         0,  0,  0],\n",
       "       [ 0,  0,  0,  0,  0,  0,  0,  0,  0,  0,  0,  0,  0,  3,  0,  0,\n",
       "         0,  0,  0],\n",
       "       [ 0,  0,  0,  0,  0,  0,  0,  0,  0,  0,  0,  0,  0,  0,  7,  0,\n",
       "         0,  0,  0],\n",
       "       [ 0,  0,  8,  0,  0,  0,  0,  0,  0,  0,  0,  0,  0,  0,  0, 18,\n",
       "         0,  0,  0],\n",
       "       [ 0,  0,  0,  0,  0,  0,  0,  0,  0,  0,  0,  0,  0,  0,  0,  0,\n",
       "         3,  0,  0],\n",
       "       [ 0,  0,  0,  0,  0,  0,  0,  0,  0,  0,  0,  0,  0,  0,  0,  0,\n",
       "         0,  6,  0],\n",
       "       [ 0,  0,  0,  0,  0,  0,  0,  0,  0,  0,  0,  0,  0,  0,  0,  0,\n",
       "         0,  0,  5]], dtype=int64)"
      ]
     },
     "execution_count": 30,
     "metadata": {},
     "output_type": "execute_result"
    }
   ],
   "source": [
    "#Geração da matriz de confusão e cálculo da taxa de acerto\n",
    "confusao = confusion_matrix(y_teste, previsoes)\n",
    "confusao"
   ]
  },
  {
   "cell_type": "code",
   "execution_count": 31,
   "id": "1dec6d78",
   "metadata": {
    "collapsed": true
   },
   "outputs": [
    {
     "data": {
      "text/plain": [
       "0.8585365853658536"
      ]
     },
     "execution_count": 31,
     "metadata": {},
     "output_type": "execute_result"
    }
   ],
   "source": [
    "taxa_acerto = accuracy_score(y_teste, previsoes)\n",
    "taxa_acerto"
   ]
  },
  {
   "cell_type": "code",
   "execution_count": 32,
   "id": "6b2dd5af",
   "metadata": {
    "collapsed": true
   },
   "outputs": [
    {
     "data": {
      "image/png": "[encoded data removed]",
      "text/plain": [
       "<Figure size 576x396 with 1 Axes>"
      ]
     },
     "metadata": {},
     "output_type": "display_data"
    },
    {
     "data": {
      "text/plain": [
       "<AxesSubplot:title={'center':'GaussianNB Confusion Matrix'}, xlabel='Predicted Class', ylabel='True Class'>"
      ]
     },
     "execution_count": 32,
     "metadata": {},
     "output_type": "execute_result"
    }
   ],
   "source": [
    "#Visualização da matriz de confusão\n",
    "v = ConfusionMatrix(GaussianNB())\n",
    "v.fit(X_treinamento, y_treinamento)\n",
    "v.score(X_teste, y_teste)\n",
    "v.poof()"
   ]
  },
  {
   "cell_type": "code",
   "execution_count": null,
   "id": "60dd2c9c",
   "metadata": {},
   "outputs": [],
   "source": []
  }
 ],
 "metadata": {
  "kernelspec": {
   "display_name": "Python 3 (ipykernel)",
   "language": "python",
   "name": "python3"
  },
  "language_info": {
   "codemirror_mode": {
    "name": "ipython",
    "version": 3
   },
   "file_extension": ".py",
   "mimetype": "text/x-python",
   "name": "python",
   "nbconvert_exporter": "python",
   "pygments_lexer": "ipython3",
   "version": "3.9.12"
  }
 },
 "nbformat": 4,
 "nbformat_minor": 5
}
